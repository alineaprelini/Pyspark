{
  "nbformat": 4,
  "nbformat_minor": 0,
  "metadata": {
    "colab": {
      "provenance": [],
      "authorship_tag": "ABX9TyNz8B972zDz5td4m9Bvi1J9",
      "include_colab_link": true
    },
    "kernelspec": {
      "name": "python3",
      "display_name": "Python 3"
    },
    "language_info": {
      "name": "python"
    }
  },
  "cells": [
    {
      "cell_type": "markdown",
      "metadata": {
        "id": "view-in-github",
        "colab_type": "text"
      },
      "source": [
        "<a href=\"https://colab.research.google.com/github/alineaprelini/Pyspark/blob/main/Pyspark.ipynb\" target=\"_parent\"><img src=\"https://colab.research.google.com/assets/colab-badge.svg\" alt=\"Open In Colab\"/></a>"
      ]
    },
    {
      "cell_type": "markdown",
      "source": [
        "**Glossário Pyspark**"
      ],
      "metadata": {
        "id": "w8BKPP8hPg1h"
      }
    },
    {
      "cell_type": "code",
      "source": [
        "pip install pyspark"
      ],
      "metadata": {
        "colab": {
          "base_uri": "https://localhost:8080/"
        },
        "id": "OmIoSZaTPHSf",
        "outputId": "89af0326-00fc-4ef6-e45f-d47b3b50ff99"
      },
      "execution_count": 3,
      "outputs": [
        {
          "output_type": "stream",
          "name": "stdout",
          "text": [
            "Requirement already satisfied: pyspark in /usr/local/lib/python3.10/dist-packages (3.5.1)\n",
            "Requirement already satisfied: py4j==0.10.9.7 in /usr/local/lib/python3.10/dist-packages (from pyspark) (0.10.9.7)\n"
          ]
        }
      ]
    },
    {
      "cell_type": "code",
      "execution_count": 10,
      "metadata": {
        "id": "LLOBMuPfO4yp"
      },
      "outputs": [],
      "source": [
        "import pandas as pd\n",
        "from pyspark.sql import SparkSession\n",
        "from pyspark.sql.functions import * #iporta todas as funções\n",
        "from pyspark.sql.types import * #importa todos os tipos de dados"
      ]
    },
    {
      "cell_type": "code",
      "source": [
        "#Criar conexão com SparkSession\n",
        "Spark.Session.builder.master('local').appName('nome').getOrCreate()\n"
      ],
      "metadata": {
        "id": "iqRTv4zhXUxg"
      },
      "execution_count": null,
      "outputs": []
    },
    {
      "cell_type": "code",
      "source": [
        "#Criar Pyspark com pandas / pyspark\n",
        "\n",
        "df = pd.read_csv('arquivo.csv')\n",
        "df = spark.read.csv('arquivo.csv')\n",
        "\n",
        "df = spark.createDataFrame(df) #Criar Dataframe"
      ],
      "metadata": {
        "id": "YC1Jb9JFQSva"
      },
      "execution_count": null,
      "outputs": []
    },
    {
      "cell_type": "code",
      "source": [
        "df.show() #Visualizar dados\n",
        "df.printSchema() #Mostrar colunas\n",
        "df.describe().show() #Mostrar estatisticas"
      ],
      "metadata": {
        "id": "2wqWFa4YQ-p1"
      },
      "execution_count": null,
      "outputs": []
    },
    {
      "cell_type": "code",
      "source": [
        "df.collect() #Coleta\n",
        "df.take(5) #Pega os 5 primeiros\n",
        "df.count() #Conta\n",
        "df.distinct().count() #Conta sem repetição\n",
        "df.dropDuplicates().show() #Apaga repeti\n"
      ],
      "metadata": {
        "id": "TAlF0ATmRMNh"
      },
      "execution_count": null,
      "outputs": []
    },
    {
      "cell_type": "code",
      "source": [
        "df.groupBy('coluna').count().show() #Agrupa\n",
        "df.groupBy('coluna').agg(sum('coluna')).show() #Soma\n",
        "df.groupBy('coluna').agg(avg('coluna')).show() #Média\n",
        "df.groupBy('coluna').agg(max('coluna')).show() #Máximo\n",
        "df.groupBy('coluna').agg(min('coluna')).show() #Mínimo"
      ],
      "metadata": {
        "id": "V3e88hqVWa5j"
      },
      "execution_count": null,
      "outputs": []
    },
    {
      "cell_type": "code",
      "source": [
        "df.CreateOrReplaceTempView(\"df\") #Cria uma tabela temporária\n",
        "df = spark.sql(\"SELECT * FROM df\") #Executa\n",
        "df.show() #Mostra o resultado\n"
      ],
      "metadata": {
        "id": "9lGUdJykWt3h"
      },
      "execution_count": null,
      "outputs": []
    }
  ]
}