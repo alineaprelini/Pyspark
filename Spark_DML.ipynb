{
  "nbformat": 4,
  "nbformat_minor": 0,
  "metadata": {
    "colab": {
      "provenance": [],
      "authorship_tag": "ABX9TyPJkfSd1Fv6kbUSCISTB6mz",
      "include_colab_link": true
    },
    "kernelspec": {
      "name": "python3",
      "display_name": "Python 3"
    },
    "language_info": {
      "name": "python"
    }
  },
  "cells": [
    {
      "cell_type": "markdown",
      "metadata": {
        "id": "view-in-github",
        "colab_type": "text"
      },
      "source": [
        "<a href=\"https://colab.research.google.com/github/alineaprelini/Pyspark/blob/main/Spark_DML.ipynb\" target=\"_parent\"><img src=\"https://colab.research.google.com/assets/colab-badge.svg\" alt=\"Open In Colab\"/></a>"
      ]
    },
    {
      "cell_type": "code",
      "execution_count": 1,
      "metadata": {
        "colab": {
          "base_uri": "https://localhost:8080/"
        },
        "id": "iKNZzpEpdynz",
        "outputId": "269f4c53-a055-46b2-cc59-23761b50eb07"
      },
      "outputs": [
        {
          "output_type": "stream",
          "name": "stdout",
          "text": [
            "Requirement already satisfied: pySpark in /usr/local/lib/python3.10/dist-packages (3.4.1)\n",
            "Requirement already satisfied: py4j==0.10.9.7 in /usr/local/lib/python3.10/dist-packages (from pySpark) (0.10.9.7)\n"
          ]
        }
      ],
      "source": [
        "!pip install pySpark"
      ]
    },
    {
      "cell_type": "code",
      "source": [
        "#Bibliotecas\n",
        "from pyspark.sql import SparkSession\n",
        "from pyspark.sql.functions import *\n",
        "from pyspark.sql import functions as F\n",
        "from pyspark.sql.types import *\n",
        "import seaborn as sns\n",
        "import matplotlib.pyplot as plt\n",
        "import pandas as pd"
      ],
      "metadata": {
        "id": "VVJ0aMp2nW39"
      },
      "execution_count": 2,
      "outputs": []
    },
    {
      "cell_type": "code",
      "source": [
        "#Iniciando Sessão\n",
        "spark = SparkSession.builder \\\n",
        "    .appName(\"A\") \\\n",
        "    .getOrCreate()"
      ],
      "metadata": {
        "id": "tWkV3c9FnxaM"
      },
      "execution_count": 3,
      "outputs": []
    },
    {
      "cell_type": "code",
      "source": [
        "#Carregando base de dados\n",
        "df1 = spark.read.csv('Marca.csv', header = True, sep = ',')\n",
        "df2 = spark.read.csv('Produto.csv', header = True, sep = ',')\n",
        "df3 = spark.read.csv('Clientes.csv', header = True, sep = ';')"
      ],
      "metadata": {
        "id": "U8k_JqZZoDV9"
      },
      "execution_count": 4,
      "outputs": []
    },
    {
      "cell_type": "code",
      "source": [
        "df1.show(10)\n",
        "df2.show(10)\n",
        "df3.show(10)"
      ],
      "metadata": {
        "id": "0grqb5LcXIbx",
        "outputId": "ef9622af-ea69-4cb4-9531-10c1e40ccd26",
        "colab": {
          "base_uri": "https://localhost:8080/"
        }
      },
      "execution_count": 5,
      "outputs": [
        {
          "output_type": "stream",
          "name": "stdout",
          "text": [
            "+---+-------------+-----------+-------+----------+------------------+--------------------+\n",
            "|_c0|    IdProduto|DescProduto|IdMarca|Quantidade|             Preço|           DescMarca|\n",
            "+---+-------------+-----------+-------+----------+------------------+--------------------+\n",
            "|  0|1245741840860|     Social|      5|       788|             15.41| Li, Smith and Scott|\n",
            "|  1|9214404086305|      Point|      7|       924|47.720000000000006|Gonzales, Young a...|\n",
            "|  2|6223853590489|   Evidence|      2|       383|              37.6|        Martin Group|\n",
            "|  3|8251950562038|        Too|      1|       666|15.739999999999998|Lawrence, William...|\n",
            "|  4|0868436639740|    Quickly|      9|       242|             79.35|Ayala, Mitchell a...|\n",
            "|  5|7679841035569|       Door|     10|       697|             76.04|           Black LLC|\n",
            "|  6|3610164719044|         Tv|      3|       933| 97.91000000000001|         Hardy-Allen|\n",
            "|  7|3786459022783|     Summer|      6|        15|             45.28|     Sheppard-Duncan|\n",
            "|  8|8635897693213|       Home|      1|       402|               9.7|      Romero-Johnson|\n",
            "|  9|3336878386746|       Feel|      2|       518|             73.97|Gibson, Johnson a...|\n",
            "+---+-------------+-----------+-------+----------+------------------+--------------------+\n",
            "only showing top 10 rows\n",
            "\n",
            "+---+-------------+-----------+-------+----------+------------------+\n",
            "|_c0|    IdProduto|DescProduto|IdMarca|Quantidade|             Preço|\n",
            "+---+-------------+-----------+-------+----------+------------------+\n",
            "|  0|1245741840860|     Social|      5|       788|             15.41|\n",
            "|  1|9214404086305|      Point|      7|       924|47.720000000000006|\n",
            "|  2|6223853590489|   Evidence|      2|       383|              37.6|\n",
            "|  3|8251950562038|        Too|      1|       666|15.739999999999998|\n",
            "|  4|0868436639740|    Quickly|      9|       242|             79.35|\n",
            "|  5|7679841035569|       Door|     10|       697|             76.04|\n",
            "|  6|3610164719044|         Tv|      3|       933| 97.91000000000001|\n",
            "|  7|3786459022783|     Summer|      6|        15|             45.28|\n",
            "|  8|8635897693213|       Home|      1|       402|               9.7|\n",
            "|  9|3336878386746|       Feel|      2|       518|             73.97|\n",
            "+---+-------------+-----------+-------+----------+------------------+\n",
            "only showing top 10 rows\n",
            "\n",
            "+---+---------+-----------------+-----+--------------------+--------------------+-----------------+---------+----------+-------+\n",
            "|_c0|IdCliente|             Nome|Idade|               Email|                País|           Cidade|IdProduto|Quantidade|IdMarca|\n",
            "+---+---------+-----------------+-----+--------------------+--------------------+-----------------+---------+----------+-------+\n",
            "|  0| 55911002|   Derrick Santos|   14|shafferdawn@examp...|United States of ...|    South Patrick|        9|         3|      1|\n",
            "|  1| 84597782|  Kevin Gutierrez|   33|   wknox@example.com|               China|   Port Julieport|        1|         6|      8|\n",
            "|  2| 98254535|   Nicole Burnett|    8|crystalsimmons@ex...|          Montserrat|     West Cynthia|        9|         1|      2|\n",
            "|  3| 10613986|   Sylvia Johnson|   24|grahamcaleb@examp...|         Switzerland|North Lisaborough|       10|        10|      3|\n",
            "|  4| 53161034|   Jasmine Garcia|    6|jennifer33@exampl...|               Korea|      South Susan|        3|         7|      3|\n",
            "|  5| 91407260|Melanie Patterson|    6|yanghector@exampl...|              Guyana|      Merrittport|        4|         5|      9|\n",
            "|  6| 44147033|     James Baxter|   21|aaronjenkins@exam...|   Brunei Darussalam|South Normanmouth|        5|         6|      1|\n",
            "|  7| 47840146|   Kathryn Martin|    4|amanda87@example.org|              Canada|     Lake Barbara|        6|         8|     10|\n",
            "|  8| 90508451|Chelsea Burke DDS|   37|nrobbins@example.net|             Lesotho|         Port Amy|        4|         3|      1|\n",
            "|  9| 61673265|     Sandra Price|   26|pattonchloe@examp...|           Argentina|        Luismouth|        3|         4|      4|\n",
            "+---+---------+-----------------+-----+--------------------+--------------------+-----------------+---------+----------+-------+\n",
            "only showing top 10 rows\n",
            "\n"
          ]
        }
      ]
    },
    {
      "cell_type": "code",
      "source": [
        "#Join Marca = produto\n",
        "df4 = df2.join(df1, df2['IdMarca'] == df1['IdMarca'], how='inner').select(df1['IdMarca'], df1['DescMarca'], df2['IdProduto'], df2['DescProduto'], df2['Quantidade'], df2['Preço'])\n",
        "df4.show()\n"
      ],
      "metadata": {
        "id": "DYnCCcyoXdFQ",
        "colab": {
          "base_uri": "https://localhost:8080/"
        },
        "outputId": "17c1bf32-92d6-40b2-92dd-ddf972ec59b6"
      },
      "execution_count": 6,
      "outputs": [
        {
          "output_type": "stream",
          "name": "stdout",
          "text": [
            "+-------+--------------------+-------------+-----------+----------+------------------+\n",
            "|IdMarca|           DescMarca|    IdProduto|DescProduto|Quantidade|             Preço|\n",
            "+-------+--------------------+-------------+-----------+----------+------------------+\n",
            "|      5|           Kim-Smith|1245741840860|     Social|       788|             15.41|\n",
            "|      5|       Phelps-Butler|1245741840860|     Social|       788|             15.41|\n",
            "|      5|Edwards, Williams...|1245741840860|     Social|       788|             15.41|\n",
            "|      5|          Duran-Pace|1245741840860|     Social|       788|             15.41|\n",
            "|      5|        Payne-Mathis|1245741840860|     Social|       788|             15.41|\n",
            "|      5|Aguilar, Medina a...|1245741840860|     Social|       788|             15.41|\n",
            "|      5|          Little LLC|1245741840860|     Social|       788|             15.41|\n",
            "|      5|      Harris-Cabrera|1245741840860|     Social|       788|             15.41|\n",
            "|      5|           Hines Inc|1245741840860|     Social|       788|             15.41|\n",
            "|      5|      Berry and Sons|1245741840860|     Social|       788|             15.41|\n",
            "|      5|       Miller-Joseph|1245741840860|     Social|       788|             15.41|\n",
            "|      5|Mccullough-Patterson|1245741840860|     Social|       788|             15.41|\n",
            "|      5|        Anderson PLC|1245741840860|     Social|       788|             15.41|\n",
            "|      5|        Allen-Howell|1245741840860|     Social|       788|             15.41|\n",
            "|      5|Johnson, Garcia a...|1245741840860|     Social|       788|             15.41|\n",
            "|      5| Li, Smith and Scott|1245741840860|     Social|       788|             15.41|\n",
            "|      7|         Brown Group|9214404086305|      Point|       924|47.720000000000006|\n",
            "|      7|       Mathis-Taylor|9214404086305|      Point|       924|47.720000000000006|\n",
            "|      7|Williams, Zimmerm...|9214404086305|      Point|       924|47.720000000000006|\n",
            "|      7|Davis, Scott and ...|9214404086305|      Point|       924|47.720000000000006|\n",
            "+-------+--------------------+-------------+-----------+----------+------------------+\n",
            "only showing top 20 rows\n",
            "\n"
          ]
        }
      ]
    },
    {
      "cell_type": "code",
      "source": [
        "df4.printSchema"
      ],
      "metadata": {
        "colab": {
          "base_uri": "https://localhost:8080/"
        },
        "id": "rmJ9Sl0ofxYm",
        "outputId": "f0f1a37a-8e42-4742-ef14-495c5ad664a9"
      },
      "execution_count": 7,
      "outputs": [
        {
          "output_type": "execute_result",
          "data": {
            "text/plain": [
              "<bound method DataFrame.printSchema of DataFrame[IdMarca: string, DescMarca: string, IdProduto: string, DescProduto: string, Quantidade: string, Preço: string]>"
            ]
          },
          "metadata": {},
          "execution_count": 7
        }
      ]
    },
    {
      "cell_type": "code",
      "source": [
        "df5 = df4.join(df3, df3['IdMarca'] == df4['IdMarca']).select(df3['IdCliente'],df3['Nome'], df3['Idade'], df3['País'], df3['Cidade'], df3['IdProduto'], df3['IdMarca'], df4['DescProduto'],df3['Quantidade'], df4['Preço'])\n",
        "df5.show()"
      ],
      "metadata": {
        "colab": {
          "base_uri": "https://localhost:8080/"
        },
        "id": "c3BTOmbZfuWp",
        "outputId": "feb626fd-c22b-42d6-f7ec-e9cb1b4f9992"
      },
      "execution_count": 8,
      "outputs": [
        {
          "output_type": "stream",
          "name": "stdout",
          "text": [
            "+---------+-----------------+-----+--------------------+------------------+---------+-------+-----------+----------+-----+\n",
            "|IdCliente|             Nome|Idade|                País|            Cidade|IdProduto|IdMarca|DescProduto|Quantidade|Preço|\n",
            "+---------+-----------------+-----+--------------------+------------------+---------+-------+-----------+----------+-----+\n",
            "| 80934224|   Abigail Holmes|   35|              Poland|        Debbiefurt|        5|      5|     Social|         8|15.41|\n",
            "| 60936668| Richard Anderson|   19|             Reunion|      West Matthew|        1|      5|     Social|         6|15.41|\n",
            "| 21205014|     Antonio West|   51|               Gabon|       Loriborough|       10|      5|     Social|         5|15.41|\n",
            "| 92005975|  Michael Blevins|   33|           Mauritius|West Angelicamouth|        6|      5|     Social|         2|15.41|\n",
            "| 97694562|      Sharon Boyd|   25|              Cyprus|    Lake Jasonberg|        6|      5|     Social|         7|15.41|\n",
            "| 41374434|Mr. Jonathan Kemp|   48|      American Samoa|        Teresabury|        7|      5|     Social|        10|15.41|\n",
            "| 80238509|      Emily Mccoy|   19|         El Salvador|  West Tinaborough|        2|      5|     Social|         6|15.41|\n",
            "| 38710902|     Allison Bell|   55|              Kuwait|     Amandachester|        9|      5|     Social|         6|15.41|\n",
            "| 82565427|      James Davis|   13|            Dominica|      Barajasmouth|        2|      5|     Social|         6|15.41|\n",
            "| 53242474|     Dustin Wells|   10|        Saint Martin|         Nancyfort|        1|      5|     Social|         5|15.41|\n",
            "| 77593924| Jordan Contreras|   38|United Arab Emirates|      North Steven|        3|      5|     Social|        10|15.41|\n",
            "| 77562379|    Jason Carroll|   31|               Congo|      Heathermouth|        5|      5|     Social|        10|15.41|\n",
            "| 23313423|    Brandon Moore|   21|            Zimbabwe|         Pattyside|        3|      5|     Social|         3|15.41|\n",
            "| 20543634|    Peggy Collier|   29|Antarctica (the t...|     Alexanderfurt|        3|      5|     Social|         3|15.41|\n",
            "| 32223879|      Dean Morris|   53|             Jamaica|         Kellybury|        7|      5|     Social|         2|15.41|\n",
            "| 45165194|     Jessica Hale|   19|             Ireland|          Reedtown|        3|      5|     Social|         6|15.41|\n",
            "| 20054218|      Linda Banks|   55|Slovakia (Slovak ...|           Markton|        8|      5|     Social|         7|15.41|\n",
            "| 83642259|      Jason Hicks|   30|            Ethiopia|   North Francisco|       10|      5|     Social|         5|15.41|\n",
            "| 96732270|   Laura Williams|   23|       New Caledonia|    West Brianview|        2|      5|     Social|         7|15.41|\n",
            "| 29677524|    Hunter Gaines|   23|      Western Sahara|        Mariaville|       10|      5|     Social|         1|15.41|\n",
            "+---------+-----------------+-----+--------------------+------------------+---------+-------+-----------+----------+-----+\n",
            "only showing top 20 rows\n",
            "\n"
          ]
        }
      ]
    },
    {
      "cell_type": "code",
      "source": [
        "#Total de vendas por produto\n",
        "p = df5.groupBy('DescProduto').agg(F.count('Quantidade').alias('QuantidadeTotal')).orderBy(F.desc('QuantidadeTotal'))\n"
      ],
      "metadata": {
        "id": "pV9gDVu7lb7Q"
      },
      "execution_count": 9,
      "outputs": []
    },
    {
      "cell_type": "code",
      "source": [
        "\n",
        "# Obter as 10 primeiras linhas\n",
        "topVendas = p.limit(10)\n",
        "topVendas.show()\n",
        "\n",
        "# Converter o DataFrame em um Pandas DataFrame\n",
        "topVendas_pd = topVendas.toPandas()\n",
        "\n",
        "# Gerar o gráfico de barras usando o Seaborn\n",
        "sns.barplot(x='DescProduto', y='QuantidadeTotal', data=topVendas_pd)\n",
        "\n",
        "# Exibir o gráfico\n",
        "plt.show()"
      ],
      "metadata": {
        "colab": {
          "base_uri": "https://localhost:8080/",
          "height": 710
        },
        "id": "vo8WdJ_mppDF",
        "outputId": "f9c1c866-e0a6-4859-8b3e-9091154d091e"
      },
      "execution_count": 10,
      "outputs": [
        {
          "output_type": "stream",
          "name": "stdout",
          "text": [
            "+-------------+---------------+\n",
            "|  DescProduto|QuantidadeTotal|\n",
            "+-------------+---------------+\n",
            "|       Enough|          57913|\n",
            "|       Center|          56592|\n",
            "|        Point|          42537|\n",
            "|        Green|          41755|\n",
            "|         Rich|          38003|\n",
            "|           Tv|          36249|\n",
            "|Environmental|          35223|\n",
            "|      Quickly|          28851|\n",
            "|       Anyone|          28296|\n",
            "|         Open|          28296|\n",
            "+-------------+---------------+\n",
            "\n"
          ]
        },
        {
          "output_type": "display_data",
          "data": {
            "text/plain": [
              "<Figure size 640x480 with 1 Axes>"
            ],
            "image/png": "[encoded data removed]"
          },
          "metadata": {}
        }
      ]
    },
    {
      "cell_type": "code",
      "source": [
        "lowVendas = df5.groupBy('DescProduto').agg(F.count('Quantidade').alias('QuantidadeTotal')).orderBy(F.asc('QuantidadeTotal'))\n",
        "LowVendas = p.limit(10)\n",
        "LowVendas.show()\n",
        "\n",
        "# Converter o DataFrame em um Pandas DataFrame\n",
        "lowVendas_pd = LowVendas.toPandas()\n",
        "\n",
        "# Gerar o gráfico de barras usando o Seaborn\n",
        "sns.barplot(x='DescProduto', y='QuantidadeTotal', data=lowVendas_pd)\n",
        "\n",
        "# Exibir o gráfico\n",
        "plt.show()"
      ],
      "metadata": {
        "colab": {
          "base_uri": "https://localhost:8080/",
          "height": 710
        },
        "id": "TZhuhhgQqb8-",
        "outputId": "9acb87be-0b15-449d-a3c2-4230e04d472c"
      },
      "execution_count": 11,
      "outputs": [
        {
          "output_type": "stream",
          "name": "stdout",
          "text": [
            "+-------------+---------------+\n",
            "|  DescProduto|QuantidadeTotal|\n",
            "+-------------+---------------+\n",
            "|       Enough|          57913|\n",
            "|       Center|          56592|\n",
            "|        Point|          42537|\n",
            "|        Green|          41755|\n",
            "|         Rich|          38003|\n",
            "|           Tv|          36249|\n",
            "|Environmental|          35223|\n",
            "|      Quickly|          28851|\n",
            "|       Anyone|          28296|\n",
            "|         Open|          28296|\n",
            "+-------------+---------------+\n",
            "\n"
          ]
        },
        {
          "output_type": "display_data",
          "data": {
            "text/plain": [
              "<Figure size 640x480 with 1 Axes>"
            ],
            "image/png": "[encoded data removed]"
          },
          "metadata": {}
        }
      ]
    },
    {
      "cell_type": "code",
      "source": [
        "df5 = df5.withColumn('Total_venda', F.round(F.col('Preço') * F.col('Quantidade')))\n",
        "df5.show()\n"
      ],
      "metadata": {
        "colab": {
          "base_uri": "https://localhost:8080/"
        },
        "id": "58H1Xt6fm2NY",
        "outputId": "b8ca0899-9eb3-4ba1-a19d-44d74ce9277b"
      },
      "execution_count": 12,
      "outputs": [
        {
          "output_type": "stream",
          "name": "stdout",
          "text": [
            "+---------+-----------------+-----+--------------------+------------------+---------+-------+-----------+----------+-----+-----------+\n",
            "|IdCliente|             Nome|Idade|                País|            Cidade|IdProduto|IdMarca|DescProduto|Quantidade|Preço|Total_venda|\n",
            "+---------+-----------------+-----+--------------------+------------------+---------+-------+-----------+----------+-----+-----------+\n",
            "| 80934224|   Abigail Holmes|   35|              Poland|        Debbiefurt|        5|      5|     Social|         8|15.41|      123.0|\n",
            "| 60936668| Richard Anderson|   19|             Reunion|      West Matthew|        1|      5|     Social|         6|15.41|       92.0|\n",
            "| 21205014|     Antonio West|   51|               Gabon|       Loriborough|       10|      5|     Social|         5|15.41|       77.0|\n",
            "| 92005975|  Michael Blevins|   33|           Mauritius|West Angelicamouth|        6|      5|     Social|         2|15.41|       31.0|\n",
            "| 97694562|      Sharon Boyd|   25|              Cyprus|    Lake Jasonberg|        6|      5|     Social|         7|15.41|      108.0|\n",
            "| 41374434|Mr. Jonathan Kemp|   48|      American Samoa|        Teresabury|        7|      5|     Social|        10|15.41|      154.0|\n",
            "| 80238509|      Emily Mccoy|   19|         El Salvador|  West Tinaborough|        2|      5|     Social|         6|15.41|       92.0|\n",
            "| 38710902|     Allison Bell|   55|              Kuwait|     Amandachester|        9|      5|     Social|         6|15.41|       92.0|\n",
            "| 82565427|      James Davis|   13|            Dominica|      Barajasmouth|        2|      5|     Social|         6|15.41|       92.0|\n",
            "| 53242474|     Dustin Wells|   10|        Saint Martin|         Nancyfort|        1|      5|     Social|         5|15.41|       77.0|\n",
            "| 77593924| Jordan Contreras|   38|United Arab Emirates|      North Steven|        3|      5|     Social|        10|15.41|      154.0|\n",
            "| 77562379|    Jason Carroll|   31|               Congo|      Heathermouth|        5|      5|     Social|        10|15.41|      154.0|\n",
            "| 23313423|    Brandon Moore|   21|            Zimbabwe|         Pattyside|        3|      5|     Social|         3|15.41|       46.0|\n",
            "| 20543634|    Peggy Collier|   29|Antarctica (the t...|     Alexanderfurt|        3|      5|     Social|         3|15.41|       46.0|\n",
            "| 32223879|      Dean Morris|   53|             Jamaica|         Kellybury|        7|      5|     Social|         2|15.41|       31.0|\n",
            "| 45165194|     Jessica Hale|   19|             Ireland|          Reedtown|        3|      5|     Social|         6|15.41|       92.0|\n",
            "| 20054218|      Linda Banks|   55|Slovakia (Slovak ...|           Markton|        8|      5|     Social|         7|15.41|      108.0|\n",
            "| 83642259|      Jason Hicks|   30|            Ethiopia|   North Francisco|       10|      5|     Social|         5|15.41|       77.0|\n",
            "| 96732270|   Laura Williams|   23|       New Caledonia|    West Brianview|        2|      5|     Social|         7|15.41|      108.0|\n",
            "| 29677524|    Hunter Gaines|   23|      Western Sahara|        Mariaville|       10|      5|     Social|         1|15.41|       15.0|\n",
            "+---------+-----------------+-----+--------------------+------------------+---------+-------+-----------+----------+-----+-----------+\n",
            "only showing top 20 rows\n",
            "\n"
          ]
        }
      ]
    },
    {
      "cell_type": "code",
      "source": [
        "c = df5.groupBy('Nome').agg(F.sum('Total_venda').alias('Total_venda_Cliente'))\n",
        "c.show()"
      ],
      "metadata": {
        "colab": {
          "base_uri": "https://localhost:8080/"
        },
        "id": "12f1pUaao87p",
        "outputId": "83604cd6-5a60-480b-d849-3748c4129075"
      },
      "execution_count": 13,
      "outputs": [
        {
          "output_type": "stream",
          "name": "stdout",
          "text": [
            "+-------------------+-------------------+\n",
            "|               Nome|Total_venda_Cliente|\n",
            "+-------------------+-------------------+\n",
            "|       Tommy Wilson|            86528.0|\n",
            "|        Sharon Hale|            10832.0|\n",
            "|      Tina Mccarthy|            21632.0|\n",
            "|          John Dean|            86528.0|\n",
            "|Robert Alvarado Jr.|            21812.0|\n",
            "|         Mary Moore|           170448.0|\n",
            "|        Tonya Walsh|           218481.0|\n",
            "|     Raymond Cooper|           131142.0|\n",
            "|         Rita Fritz|           131142.0|\n",
            "|     Brent Harrison|           252288.0|\n",
            "|      Melanie Lopez|            36045.0|\n",
            "|      Adam Williams|            72063.0|\n",
            "|       Anna Pittman|            73836.0|\n",
            "|      Sheryl Grimes|            18480.0|\n",
            "|      Nicole Stuart|            64582.0|\n",
            "|     Connie Bentley|            83048.0|\n",
            "|       Megan Butler|            18480.0|\n",
            "|    Melanie Ramirez|            55370.0|\n",
            "|   Laurie Hernandez|            64582.0|\n",
            "|        Helen Jones|           283392.0|\n",
            "+-------------------+-------------------+\n",
            "only showing top 20 rows\n",
            "\n"
          ]
        }
      ]
    },
    {
      "cell_type": "code",
      "source": [
        "# Registre o DataFrame como uma tabela temporária\n",
        "df5.createOrReplaceTempView(\"Clientes\")\n",
        "\n",
        "# Execute uma consulta SQL no DataFrame\n",
        "consulta_sql = \"SELECT * FROM Clientes WHERE Idade >= 30\"\n",
        "resultado = spark.sql(consulta_sql)\n",
        "\n",
        "# Visualize o resultado da consulta\n",
        "resultado.show()\n",
        "\n",
        "# Gere o script SQL correspondente à consulta\n",
        "script_sql = resultado.explain()\n"
      ],
      "metadata": {
        "colab": {
          "base_uri": "https://localhost:8080/"
        },
        "id": "w0XJ2eVd_wgu",
        "outputId": "d8d00c1c-e3bf-4a99-ce72-7cc41af69cd1"
      },
      "execution_count": 17,
      "outputs": [
        {
          "output_type": "stream",
          "name": "stdout",
          "text": [
            "+---------+-----------------+-----+--------------------+------------------+---------+-------+-----------+----------+-----+-----------+\n",
            "|IdCliente|             Nome|Idade|                País|            Cidade|IdProduto|IdMarca|DescProduto|Quantidade|Preço|Total_venda|\n",
            "+---------+-----------------+-----+--------------------+------------------+---------+-------+-----------+----------+-----+-----------+\n",
            "| 80934224|   Abigail Holmes|   35|              Poland|        Debbiefurt|        5|      5|     Social|         8|15.41|      123.0|\n",
            "| 21205014|     Antonio West|   51|               Gabon|       Loriborough|       10|      5|     Social|         5|15.41|       77.0|\n",
            "| 92005975|  Michael Blevins|   33|           Mauritius|West Angelicamouth|        6|      5|     Social|         2|15.41|       31.0|\n",
            "| 41374434|Mr. Jonathan Kemp|   48|      American Samoa|        Teresabury|        7|      5|     Social|        10|15.41|      154.0|\n",
            "| 38710902|     Allison Bell|   55|              Kuwait|     Amandachester|        9|      5|     Social|         6|15.41|       92.0|\n",
            "| 77593924| Jordan Contreras|   38|United Arab Emirates|      North Steven|        3|      5|     Social|        10|15.41|      154.0|\n",
            "| 77562379|    Jason Carroll|   31|               Congo|      Heathermouth|        5|      5|     Social|        10|15.41|      154.0|\n",
            "| 32223879|      Dean Morris|   53|             Jamaica|         Kellybury|        7|      5|     Social|         2|15.41|       31.0|\n",
            "| 20054218|      Linda Banks|   55|Slovakia (Slovak ...|           Markton|        8|      5|     Social|         7|15.41|      108.0|\n",
            "| 83642259|      Jason Hicks|   30|            Ethiopia|   North Francisco|       10|      5|     Social|         5|15.41|       77.0|\n",
            "| 22979133|      Ann Perkins|   47|            Portugal|    New Ericamouth|        4|      5|     Social|         1|15.41|       15.0|\n",
            "| 39770671|    Joy Christian|   41|                Fiji|         Kaylafort|        5|      5|     Social|        10|15.41|      154.0|\n",
            "| 12586941|Rebecca Schroeder|   40|            Tanzania|         Olsonside|        9|      5|     Social|         9|15.41|      139.0|\n",
            "| 83679781|    Hannah Powell|   54|            Suriname|      Michaelshire|        8|      5|     Social|         2|15.41|       31.0|\n",
            "| 46311433|    Carol Johnson|   49|              Brazil|         Adamsport|        3|      5|     Social|         3|15.41|       46.0|\n",
            "| 75851659|    Richard Giles|   44|     Kyrgyz Republic|       Edwardsfurt|        6|      5|     Social|         8|15.41|      123.0|\n",
            "| 35836078|       Mary Parks|   57|           Nicaragua|       Andradeport|        2|      5|     Social|         1|15.41|       15.0|\n",
            "| 62990647|     David Austin|   44|              Monaco|         Carlatown|        7|      5|     Social|         3|15.41|       46.0|\n",
            "| 69660966|      Carol Brown|   50|              Jersey|       Natashatown|        9|      5|     Social|         5|15.41|       77.0|\n",
            "| 22931214|   Donald Huffman|   42|             Ireland|     North Valerie|        2|      5|     Social|         5|15.41|       77.0|\n",
            "+---------+-----------------+-----+--------------------+------------------+---------+-------+-----------+----------+-----+-----------+\n",
            "only showing top 20 rows\n",
            "\n",
            "== Physical Plan ==\n",
            "AdaptiveSparkPlan isFinalPlan=false\n",
            "+- Project [IdCliente#78, Nome#79, Idade#80, País#82, Cidade#83, IdProduto#84, IdMarca#86, DescProduto#50, Quantidade#85, Preço#53, round((cast(Preço#53 as double) * cast(Quantidade#85 as double)), 0) AS Total_venda#457]\n",
            "   +- BroadcastHashJoin [IdMarca#20], [IdMarca#86], Inner, BuildRight, false\n",
            "      :- Project [IdMarca#20, DescProduto#50, Preço#53]\n",
            "      :  +- BroadcastHashJoin [IdMarca#51], [IdMarca#20], Inner, BuildRight, false\n",
            "      :     :- Filter isnotnull(IdMarca#51)\n",
            "      :     :  +- FileScan csv [DescProduto#50,IdMarca#51,Preço#53] Batched: false, DataFilters: [isnotnull(IdMarca#51)], Format: CSV, Location: InMemoryFileIndex(1 paths)[file:/content/Produto.csv], PartitionFilters: [], PushedFilters: [IsNotNull(IdMarca)], ReadSchema: struct<DescProduto:string,IdMarca:string,Preço:string>\n",
            "      :     +- BroadcastExchange HashedRelationBroadcastMode(List(input[0, string, false]),false), [plan_id=2466]\n",
            "      :        +- Filter isnotnull(IdMarca#20)\n",
            "      :           +- FileScan csv [IdMarca#20] Batched: false, DataFilters: [isnotnull(IdMarca#20)], Format: CSV, Location: InMemoryFileIndex(1 paths)[file:/content/Marca.csv], PartitionFilters: [], PushedFilters: [IsNotNull(IdMarca)], ReadSchema: struct<IdMarca:string>\n",
            "      +- BroadcastExchange HashedRelationBroadcastMode(List(input[7, string, false]),false), [plan_id=2470]\n",
            "         +- Filter ((isnotnull(Idade#80) AND (cast(Idade#80 as int) >= 30)) AND isnotnull(IdMarca#86))\n",
            "            +- FileScan csv [IdCliente#78,Nome#79,Idade#80,País#82,Cidade#83,IdProduto#84,Quantidade#85,IdMarca#86] Batched: false, DataFilters: [isnotnull(Idade#80), (cast(Idade#80 as int) >= 30), isnotnull(IdMarca#86)], Format: CSV, Location: InMemoryFileIndex(1 paths)[file:/content/Clientes.csv], PartitionFilters: [], PushedFilters: [IsNotNull(Idade), IsNotNull(IdMarca)], ReadSchema: struct<IdCliente:string,Nome:string,Idade:string,País:string,Cidade:string,IdProduto:string,Quant...\n",
            "\n",
            "\n"
          ]
        }
      ]
    },
    {
      "cell_type": "code",
      "source": [
        "df5.write.format(\"csv\").mode(\"overwrite\").save(\"T.csv\")"
      ],
      "metadata": {
        "id": "2tn9Pd0B_Sep"
      },
      "execution_count": null,
      "outputs": []
    }
  ]
}