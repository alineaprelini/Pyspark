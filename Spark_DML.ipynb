{
  "nbformat": 4,
  "nbformat_minor": 0,
  "metadata": {
    "colab": {
      "provenance": [],
      "authorship_tag": "ABX9TyMbwHQjM1wF//WtXZyLRtc/",
      "include_colab_link": true
    },
    "kernelspec": {
      "name": "python3",
      "display_name": "Python 3"
    },
    "language_info": {
      "name": "python"
    }
  },
  "cells": [
    {
      "cell_type": "markdown",
      "metadata": {
        "id": "view-in-github",
        "colab_type": "text"
      },
      "source": [
        "<a href=\"https://colab.research.google.com/github/alineaprelini/Pyspark/blob/main/Spark_DML.ipynb\" target=\"_parent\"><img src=\"https://colab.research.google.com/assets/colab-badge.svg\" alt=\"Open In Colab\"/></a>"
      ]
    },
    {
      "cell_type": "code",
      "execution_count": null,
      "metadata": {
        "colab": {
          "base_uri": "https://localhost:8080/"
        },
        "id": "iKNZzpEpdynz",
        "outputId": "b59ba5a1-17bd-419f-a449-d0375c831689"
      },
      "outputs": [
        {
          "output_type": "stream",
          "name": "stdout",
          "text": [
            "Collecting pySpark\n",
            "  Downloading pyspark-3.4.1.tar.gz (310.8 MB)\n",
            "\u001b[2K     \u001b[90m━━━━━━━━━━━━━━━━━━━━━━━━━━━━━━━━━━━━━━━\u001b[0m \u001b[32m310.8/310.8 MB\u001b[0m \u001b[31m2.0 MB/s\u001b[0m eta \u001b[36m0:00:00\u001b[0m\n",
            "\u001b[?25h  Preparing metadata (setup.py) ... \u001b[?25l\u001b[?25hdone\n",
            "Requirement already satisfied: py4j==0.10.9.7 in /usr/local/lib/python3.10/dist-packages (from pySpark) (0.10.9.7)\n",
            "Building wheels for collected packages: pySpark\n",
            "  Building wheel for pySpark (setup.py) ... \u001b[?25l\u001b[?25hdone\n",
            "  Created wheel for pySpark: filename=pyspark-3.4.1-py2.py3-none-any.whl size=311285387 sha256=812a03b427dc7861b0e952d8915668f87e0c58c5cc50089a3061eb102591e91a\n",
            "  Stored in directory: /root/.cache/pip/wheels/0d/77/a3/ff2f74cc9ab41f8f594dabf0579c2a7c6de920d584206e0834\n",
            "Successfully built pySpark\n",
            "Installing collected packages: pySpark\n",
            "Successfully installed pySpark-3.4.1\n"
          ]
        }
      ],
      "source": [
        "!pip install pySpark"
      ]
    },
    {
      "cell_type": "code",
      "source": [
        "#Bibliotecas\n",
        "from pyspark.sql import SparkSession\n",
        "from pyspark.sql.functions import *\n",
        "from pyspark.sql.types import *"
      ],
      "metadata": {
        "id": "VVJ0aMp2nW39"
      },
      "execution_count": null,
      "outputs": []
    },
    {
      "cell_type": "code",
      "source": [
        "#Iniciando Sessão\n",
        "spark = SparkSession.builder \\\n",
        "    .master(\"local\") \\\n",
        "    .appName(\"hello\") \\\n",
        "    .getOrCreate()"
      ],
      "metadata": {
        "id": "tWkV3c9FnxaM"
      },
      "execution_count": null,
      "outputs": []
    },
    {
      "cell_type": "code",
      "source": [
        "df = Spark.read.csv()\n",
        "df = Spark.read.csv()\n",
        "df = Spark.read.csv()"
      ],
      "metadata": {
        "id": "U8k_JqZZoDV9"
      },
      "execution_count": null,
      "outputs": []
    }
  ]
}