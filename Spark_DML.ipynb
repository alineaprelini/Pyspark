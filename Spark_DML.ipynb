{
  "nbformat": 4,
  "nbformat_minor": 0,
  "metadata": {
    "colab": {
      "provenance": [],
      "authorship_tag": "ABX9TyN1tq7ERcaSE82DotIzAwDA",
      "include_colab_link": true
    },
    "kernelspec": {
      "name": "python3",
      "display_name": "Python 3"
    },
    "language_info": {
      "name": "python"
    }
  },
  "cells": [
    {
      "cell_type": "markdown",
      "metadata": {
        "id": "view-in-github",
        "colab_type": "text"
      },
      "source": [
        "<a href=\"https://colab.research.google.com/github/alineaprelini/Pyspark/blob/main/Spark_DML.ipynb\" target=\"_parent\"><img src=\"https://colab.research.google.com/assets/colab-badge.svg\" alt=\"Open In Colab\"/></a>"
      ]
    },
    {
      "cell_type": "code",
      "execution_count": 1,
      "metadata": {
        "colab": {
          "base_uri": "https://localhost:8080/"
        },
        "id": "iKNZzpEpdynz",
        "outputId": "d6e3ea95-8ea3-4e0f-d513-3f98734a56c0"
      },
      "outputs": [
        {
          "output_type": "stream",
          "name": "stdout",
          "text": [
            "Requirement already satisfied: pySpark in /usr/local/lib/python3.10/dist-packages (3.4.1)\n",
            "Requirement already satisfied: py4j==0.10.9.7 in /usr/local/lib/python3.10/dist-packages (from pySpark) (0.10.9.7)\n"
          ]
        }
      ],
      "source": [
        "!pip install pySpark"
      ]
    },
    {
      "cell_type": "code",
      "source": [
        "#Bibliotecas\n",
        "from pyspark.sql import SparkSession\n",
        "from pyspark.sql.functions import *\n",
        "from pyspark.sql import functions as F\n",
        "from pyspark.sql.types import *"
      ],
      "metadata": {
        "id": "VVJ0aMp2nW39"
      },
      "execution_count": 66,
      "outputs": []
    },
    {
      "cell_type": "code",
      "source": [
        "#Iniciando Sessão\n",
        "spark = SparkSession.builder \\\n",
        "    .appName(\"A\") \\\n",
        "    .getOrCreate()"
      ],
      "metadata": {
        "id": "tWkV3c9FnxaM"
      },
      "execution_count": 8,
      "outputs": []
    },
    {
      "cell_type": "code",
      "source": [
        "#Carregando base de dados\n",
        "df1 = spark.read.csv('Marca.csv', header = True, sep = ',')\n",
        "df2 = spark.read.csv('Produto.csv', header = True, sep = ',')\n",
        "df3 = spark.read.csv('Clientes.csv', header = True, sep = ';')"
      ],
      "metadata": {
        "id": "U8k_JqZZoDV9"
      },
      "execution_count": 45,
      "outputs": []
    },
    {
      "cell_type": "code",
      "source": [
        "df1.show(10)\n",
        "df2.show(10)\n",
        "df3.show(10)"
      ],
      "metadata": {
        "id": "0grqb5LcXIbx",
        "outputId": "c90c01cf-c8f5-4fb0-c522-1736d9e2c4d5",
        "colab": {
          "base_uri": "https://localhost:8080/"
        }
      },
      "execution_count": 46,
      "outputs": [
        {
          "output_type": "stream",
          "name": "stdout",
          "text": [
            "+---+-------------+-----------+-------+----------+------------------+--------------------+\n",
            "|_c0|    IdProduto|DescProduto|IdMarca|Quantidade|             Preço|           DescMarca|\n",
            "+---+-------------+-----------+-------+----------+------------------+--------------------+\n",
            "|  0|1245741840860|     Social|      5|       788|             15.41| Li, Smith and Scott|\n",
            "|  1|9214404086305|      Point|      7|       924|47.720000000000006|Gonzales, Young a...|\n",
            "|  2|6223853590489|   Evidence|      2|       383|              37.6|        Martin Group|\n",
            "|  3|8251950562038|        Too|      1|       666|15.739999999999998|Lawrence, William...|\n",
            "|  4|0868436639740|    Quickly|      9|       242|             79.35|Ayala, Mitchell a...|\n",
            "|  5|7679841035569|       Door|     10|       697|             76.04|           Black LLC|\n",
            "|  6|3610164719044|         Tv|      3|       933| 97.91000000000001|         Hardy-Allen|\n",
            "|  7|3786459022783|     Summer|      6|        15|             45.28|     Sheppard-Duncan|\n",
            "|  8|8635897693213|       Home|      1|       402|               9.7|      Romero-Johnson|\n",
            "|  9|3336878386746|       Feel|      2|       518|             73.97|Gibson, Johnson a...|\n",
            "+---+-------------+-----------+-------+----------+------------------+--------------------+\n",
            "only showing top 10 rows\n",
            "\n",
            "+---+-------------+-----------+-------+----------+------------------+\n",
            "|_c0|    IdProduto|DescProduto|IdMarca|Quantidade|             Preço|\n",
            "+---+-------------+-----------+-------+----------+------------------+\n",
            "|  0|1245741840860|     Social|      5|       788|             15.41|\n",
            "|  1|9214404086305|      Point|      7|       924|47.720000000000006|\n",
            "|  2|6223853590489|   Evidence|      2|       383|              37.6|\n",
            "|  3|8251950562038|        Too|      1|       666|15.739999999999998|\n",
            "|  4|0868436639740|    Quickly|      9|       242|             79.35|\n",
            "|  5|7679841035569|       Door|     10|       697|             76.04|\n",
            "|  6|3610164719044|         Tv|      3|       933| 97.91000000000001|\n",
            "|  7|3786459022783|     Summer|      6|        15|             45.28|\n",
            "|  8|8635897693213|       Home|      1|       402|               9.7|\n",
            "|  9|3336878386746|       Feel|      2|       518|             73.97|\n",
            "+---+-------------+-----------+-------+----------+------------------+\n",
            "only showing top 10 rows\n",
            "\n",
            "+---+---------+-----------------+-----+--------------------+--------------------+-----------------+---------+----------+-------+\n",
            "|_c0|IdCliente|             Nome|Idade|               Email|                País|           Cidade|IdProduto|Quantidade|IdMarca|\n",
            "+---+---------+-----------------+-----+--------------------+--------------------+-----------------+---------+----------+-------+\n",
            "|  0| 55911002|   Derrick Santos|   14|shafferdawn@examp...|United States of ...|    South Patrick|        9|         3|      1|\n",
            "|  1| 84597782|  Kevin Gutierrez|   33|   wknox@example.com|               China|   Port Julieport|        1|         6|      8|\n",
            "|  2| 98254535|   Nicole Burnett|    8|crystalsimmons@ex...|          Montserrat|     West Cynthia|        9|         1|      2|\n",
            "|  3| 10613986|   Sylvia Johnson|   24|grahamcaleb@examp...|         Switzerland|North Lisaborough|       10|        10|      3|\n",
            "|  4| 53161034|   Jasmine Garcia|    6|jennifer33@exampl...|               Korea|      South Susan|        3|         7|      3|\n",
            "|  5| 91407260|Melanie Patterson|    6|yanghector@exampl...|              Guyana|      Merrittport|        4|         5|      9|\n",
            "|  6| 44147033|     James Baxter|   21|aaronjenkins@exam...|   Brunei Darussalam|South Normanmouth|        5|         6|      1|\n",
            "|  7| 47840146|   Kathryn Martin|    4|amanda87@example.org|              Canada|     Lake Barbara|        6|         8|     10|\n",
            "|  8| 90508451|Chelsea Burke DDS|   37|nrobbins@example.net|             Lesotho|         Port Amy|        4|         3|      1|\n",
            "|  9| 61673265|     Sandra Price|   26|pattonchloe@examp...|           Argentina|        Luismouth|        3|         4|      4|\n",
            "+---+---------+-----------------+-----+--------------------+--------------------+-----------------+---------+----------+-------+\n",
            "only showing top 10 rows\n",
            "\n"
          ]
        }
      ]
    },
    {
      "cell_type": "code",
      "source": [
        "#Join Marca = produto\n",
        "df4 = df2.join(df1, df2['IdMarca'] == df1['IdMarca'], how='inner').select(df1['IdMarca'], df1['DescMarca'], df2['IdProduto'], df2['DescProduto'], df2['Quantidade'], df2['Preço'])\n",
        "df4.show()\n"
      ],
      "metadata": {
        "id": "DYnCCcyoXdFQ",
        "colab": {
          "base_uri": "https://localhost:8080/"
        },
        "outputId": "dd85cc86-85f8-4388-f705-0665d1b82178"
      },
      "execution_count": 54,
      "outputs": [
        {
          "output_type": "stream",
          "name": "stdout",
          "text": [
            "+-------+--------------------+-------------+-----------+----------+------------------+\n",
            "|IdMarca|           DescMarca|    IdProduto|DescProduto|Quantidade|             Preço|\n",
            "+-------+--------------------+-------------+-----------+----------+------------------+\n",
            "|      5|           Kim-Smith|1245741840860|     Social|       788|             15.41|\n",
            "|      5|       Phelps-Butler|1245741840860|     Social|       788|             15.41|\n",
            "|      5|Edwards, Williams...|1245741840860|     Social|       788|             15.41|\n",
            "|      5|          Duran-Pace|1245741840860|     Social|       788|             15.41|\n",
            "|      5|        Payne-Mathis|1245741840860|     Social|       788|             15.41|\n",
            "|      5|Aguilar, Medina a...|1245741840860|     Social|       788|             15.41|\n",
            "|      5|          Little LLC|1245741840860|     Social|       788|             15.41|\n",
            "|      5|      Harris-Cabrera|1245741840860|     Social|       788|             15.41|\n",
            "|      5|           Hines Inc|1245741840860|     Social|       788|             15.41|\n",
            "|      5|      Berry and Sons|1245741840860|     Social|       788|             15.41|\n",
            "|      5|       Miller-Joseph|1245741840860|     Social|       788|             15.41|\n",
            "|      5|Mccullough-Patterson|1245741840860|     Social|       788|             15.41|\n",
            "|      5|        Anderson PLC|1245741840860|     Social|       788|             15.41|\n",
            "|      5|        Allen-Howell|1245741840860|     Social|       788|             15.41|\n",
            "|      5|Johnson, Garcia a...|1245741840860|     Social|       788|             15.41|\n",
            "|      5| Li, Smith and Scott|1245741840860|     Social|       788|             15.41|\n",
            "|      7|         Brown Group|9214404086305|      Point|       924|47.720000000000006|\n",
            "|      7|       Mathis-Taylor|9214404086305|      Point|       924|47.720000000000006|\n",
            "|      7|Williams, Zimmerm...|9214404086305|      Point|       924|47.720000000000006|\n",
            "|      7|Davis, Scott and ...|9214404086305|      Point|       924|47.720000000000006|\n",
            "+-------+--------------------+-------------+-----------+----------+------------------+\n",
            "only showing top 20 rows\n",
            "\n"
          ]
        }
      ]
    },
    {
      "cell_type": "code",
      "source": [
        "df4.printSchema"
      ],
      "metadata": {
        "colab": {
          "base_uri": "https://localhost:8080/"
        },
        "id": "rmJ9Sl0ofxYm",
        "outputId": "70881123-315c-4920-e306-b208dcc1e376"
      },
      "execution_count": 49,
      "outputs": [
        {
          "output_type": "execute_result",
          "data": {
            "text/plain": [
              "<bound method DataFrame.printSchema of DataFrame[_c0: string, IdProduto: string, DescProduto: string, IdMarca: string, Quantidade: string, Preço: string, _c0: string, IdProduto: string, DescProduto: string, IdMarca: string, Quantidade: string, Preço: string, DescMarca: string]>"
            ]
          },
          "metadata": {},
          "execution_count": 49
        }
      ]
    },
    {
      "cell_type": "code",
      "source": [
        "df5 = df4.join(df3, df3['IdMarca'] == df4['IdMarca']).select(df3['IdCliente'],df3['Nome'], df3['Idade'], df3['País'], df3['Cidade'], df3['IdProduto'], df3['IdMarca'], df4['DescProduto'],df3['Quantidade'], df4['Preço'])\n",
        "df5.show()"
      ],
      "metadata": {
        "colab": {
          "base_uri": "https://localhost:8080/"
        },
        "id": "c3BTOmbZfuWp",
        "outputId": "8592d69f-6c31-4665-ad5c-70f592fd744d"
      },
      "execution_count": 73,
      "outputs": [
        {
          "output_type": "stream",
          "name": "stdout",
          "text": [
            "+---------+-----------------+-----+--------------------+------------------+---------+-------+-----------+----------+-----+\n",
            "|IdCliente|             Nome|Idade|                País|            Cidade|IdProduto|IdMarca|DescProduto|Quantidade|Preço|\n",
            "+---------+-----------------+-----+--------------------+------------------+---------+-------+-----------+----------+-----+\n",
            "| 80934224|   Abigail Holmes|   35|              Poland|        Debbiefurt|        5|      5|     Social|         8|15.41|\n",
            "| 60936668| Richard Anderson|   19|             Reunion|      West Matthew|        1|      5|     Social|         6|15.41|\n",
            "| 21205014|     Antonio West|   51|               Gabon|       Loriborough|       10|      5|     Social|         5|15.41|\n",
            "| 92005975|  Michael Blevins|   33|           Mauritius|West Angelicamouth|        6|      5|     Social|         2|15.41|\n",
            "| 97694562|      Sharon Boyd|   25|              Cyprus|    Lake Jasonberg|        6|      5|     Social|         7|15.41|\n",
            "| 41374434|Mr. Jonathan Kemp|   48|      American Samoa|        Teresabury|        7|      5|     Social|        10|15.41|\n",
            "| 80238509|      Emily Mccoy|   19|         El Salvador|  West Tinaborough|        2|      5|     Social|         6|15.41|\n",
            "| 38710902|     Allison Bell|   55|              Kuwait|     Amandachester|        9|      5|     Social|         6|15.41|\n",
            "| 82565427|      James Davis|   13|            Dominica|      Barajasmouth|        2|      5|     Social|         6|15.41|\n",
            "| 53242474|     Dustin Wells|   10|        Saint Martin|         Nancyfort|        1|      5|     Social|         5|15.41|\n",
            "| 77593924| Jordan Contreras|   38|United Arab Emirates|      North Steven|        3|      5|     Social|        10|15.41|\n",
            "| 77562379|    Jason Carroll|   31|               Congo|      Heathermouth|        5|      5|     Social|        10|15.41|\n",
            "| 23313423|    Brandon Moore|   21|            Zimbabwe|         Pattyside|        3|      5|     Social|         3|15.41|\n",
            "| 20543634|    Peggy Collier|   29|Antarctica (the t...|     Alexanderfurt|        3|      5|     Social|         3|15.41|\n",
            "| 32223879|      Dean Morris|   53|             Jamaica|         Kellybury|        7|      5|     Social|         2|15.41|\n",
            "| 45165194|     Jessica Hale|   19|             Ireland|          Reedtown|        3|      5|     Social|         6|15.41|\n",
            "| 20054218|      Linda Banks|   55|Slovakia (Slovak ...|           Markton|        8|      5|     Social|         7|15.41|\n",
            "| 83642259|      Jason Hicks|   30|            Ethiopia|   North Francisco|       10|      5|     Social|         5|15.41|\n",
            "| 96732270|   Laura Williams|   23|       New Caledonia|    West Brianview|        2|      5|     Social|         7|15.41|\n",
            "| 29677524|    Hunter Gaines|   23|      Western Sahara|        Mariaville|       10|      5|     Social|         1|15.41|\n",
            "+---------+-----------------+-----+--------------------+------------------+---------+-------+-----------+----------+-----+\n",
            "only showing top 20 rows\n",
            "\n"
          ]
        }
      ]
    },
    {
      "cell_type": "code",
      "source": [
        "#Total de vendas por produto\n",
        "p = df5.groupBy('DescProduto').agg(F.count('Quantidade').alias('QuantidadeTotal')).orderBy('QuantidadeTotal')\n",
        "p.show()"
      ],
      "metadata": {
        "colab": {
          "base_uri": "https://localhost:8080/"
        },
        "id": "pV9gDVu7lb7Q",
        "outputId": "cec3a698-5bec-4135-f460-d95b5e36cd7d"
      },
      "execution_count": 74,
      "outputs": [
        {
          "output_type": "stream",
          "name": "stdout",
          "text": [
            "+-----------+---------------+\n",
            "|DescProduto|QuantidadeTotal|\n",
            "+-----------+---------------+\n",
            "|       High|          13986|\n",
            "|        Use|          13986|\n",
            "|       Call|          13986|\n",
            "|      Argue|          13986|\n",
            "|         Up|          13986|\n",
            "|    Society|          13986|\n",
            "|         Be|          13986|\n",
            "|      Worry|          13986|\n",
            "|         Ok|          13986|\n",
            "|  Recognize|          13986|\n",
            "|    Service|          13986|\n",
            "|      Price|          13986|\n",
            "|       Half|          14865|\n",
            "|  Certainly|          14865|\n",
            "|      Crime|          14865|\n",
            "|       Rule|          14865|\n",
            "|   Probably|          14865|\n",
            "|     Memory|          14865|\n",
            "|        Add|          14865|\n",
            "|       Page|          14865|\n",
            "+-----------+---------------+\n",
            "only showing top 20 rows\n",
            "\n"
          ]
        }
      ]
    },
    {
      "cell_type": "code",
      "source": [
        "df5 = df5.withColumn('Total_venda', F.round(F.col('Preço') * F.col('Quantidade')))\n",
        "df5.show()\n"
      ],
      "metadata": {
        "colab": {
          "base_uri": "https://localhost:8080/"
        },
        "id": "58H1Xt6fm2NY",
        "outputId": "5664e1a8-7dbc-4f9f-a07b-2e295946b329"
      },
      "execution_count": 80,
      "outputs": [
        {
          "output_type": "stream",
          "name": "stdout",
          "text": [
            "+---------+-----------------+-----+--------------------+------------------+---------+-------+-----------+----------+-----+-----------+\n",
            "|IdCliente|             Nome|Idade|                País|            Cidade|IdProduto|IdMarca|DescProduto|Quantidade|Preço|Total_venda|\n",
            "+---------+-----------------+-----+--------------------+------------------+---------+-------+-----------+----------+-----+-----------+\n",
            "| 80934224|   Abigail Holmes|   35|              Poland|        Debbiefurt|        5|      5|     Social|         8|15.41|      123.0|\n",
            "| 60936668| Richard Anderson|   19|             Reunion|      West Matthew|        1|      5|     Social|         6|15.41|       92.0|\n",
            "| 21205014|     Antonio West|   51|               Gabon|       Loriborough|       10|      5|     Social|         5|15.41|       77.0|\n",
            "| 92005975|  Michael Blevins|   33|           Mauritius|West Angelicamouth|        6|      5|     Social|         2|15.41|       31.0|\n",
            "| 97694562|      Sharon Boyd|   25|              Cyprus|    Lake Jasonberg|        6|      5|     Social|         7|15.41|      108.0|\n",
            "| 41374434|Mr. Jonathan Kemp|   48|      American Samoa|        Teresabury|        7|      5|     Social|        10|15.41|      154.0|\n",
            "| 80238509|      Emily Mccoy|   19|         El Salvador|  West Tinaborough|        2|      5|     Social|         6|15.41|       92.0|\n",
            "| 38710902|     Allison Bell|   55|              Kuwait|     Amandachester|        9|      5|     Social|         6|15.41|       92.0|\n",
            "| 82565427|      James Davis|   13|            Dominica|      Barajasmouth|        2|      5|     Social|         6|15.41|       92.0|\n",
            "| 53242474|     Dustin Wells|   10|        Saint Martin|         Nancyfort|        1|      5|     Social|         5|15.41|       77.0|\n",
            "| 77593924| Jordan Contreras|   38|United Arab Emirates|      North Steven|        3|      5|     Social|        10|15.41|      154.0|\n",
            "| 77562379|    Jason Carroll|   31|               Congo|      Heathermouth|        5|      5|     Social|        10|15.41|      154.0|\n",
            "| 23313423|    Brandon Moore|   21|            Zimbabwe|         Pattyside|        3|      5|     Social|         3|15.41|       46.0|\n",
            "| 20543634|    Peggy Collier|   29|Antarctica (the t...|     Alexanderfurt|        3|      5|     Social|         3|15.41|       46.0|\n",
            "| 32223879|      Dean Morris|   53|             Jamaica|         Kellybury|        7|      5|     Social|         2|15.41|       31.0|\n",
            "| 45165194|     Jessica Hale|   19|             Ireland|          Reedtown|        3|      5|     Social|         6|15.41|       92.0|\n",
            "| 20054218|      Linda Banks|   55|Slovakia (Slovak ...|           Markton|        8|      5|     Social|         7|15.41|      108.0|\n",
            "| 83642259|      Jason Hicks|   30|            Ethiopia|   North Francisco|       10|      5|     Social|         5|15.41|       77.0|\n",
            "| 96732270|   Laura Williams|   23|       New Caledonia|    West Brianview|        2|      5|     Social|         7|15.41|      108.0|\n",
            "| 29677524|    Hunter Gaines|   23|      Western Sahara|        Mariaville|       10|      5|     Social|         1|15.41|       15.0|\n",
            "+---------+-----------------+-----+--------------------+------------------+---------+-------+-----------+----------+-----+-----------+\n",
            "only showing top 20 rows\n",
            "\n"
          ]
        }
      ]
    },
    {
      "cell_type": "code",
      "source": [
        "c = df5.groupBy('Nome').agg(F.sum('Total_venda').alias('Total_venda_Cliente'))\n",
        "c.show()"
      ],
      "metadata": {
        "colab": {
          "base_uri": "https://localhost:8080/"
        },
        "id": "12f1pUaao87p",
        "outputId": "f00a04f6-3248-48b7-c01d-e422e04c4ec5"
      },
      "execution_count": 82,
      "outputs": [
        {
          "output_type": "stream",
          "name": "stdout",
          "text": [
            "+-------------------+----------------+\n",
            "|               Nome|Soma_Total_venda|\n",
            "+-------------------+----------------+\n",
            "|       Tommy Wilson|         86528.0|\n",
            "|        Sharon Hale|         10832.0|\n",
            "|      Tina Mccarthy|         21632.0|\n",
            "|          John Dean|         86528.0|\n",
            "|Robert Alvarado Jr.|         21812.0|\n",
            "|         Mary Moore|        170448.0|\n",
            "|        Tonya Walsh|        218481.0|\n",
            "|     Raymond Cooper|        131142.0|\n",
            "|         Rita Fritz|        131142.0|\n",
            "|     Brent Harrison|        252288.0|\n",
            "|      Melanie Lopez|         36045.0|\n",
            "|      Adam Williams|         72063.0|\n",
            "|       Anna Pittman|         73836.0|\n",
            "|      Sheryl Grimes|         18480.0|\n",
            "|      Nicole Stuart|         64582.0|\n",
            "|     Connie Bentley|         83048.0|\n",
            "|       Megan Butler|         18480.0|\n",
            "|    Melanie Ramirez|         55370.0|\n",
            "|   Laurie Hernandez|         64582.0|\n",
            "|        Helen Jones|        283392.0|\n",
            "+-------------------+----------------+\n",
            "only showing top 20 rows\n",
            "\n"
          ]
        }
      ]
    }
  ]
}